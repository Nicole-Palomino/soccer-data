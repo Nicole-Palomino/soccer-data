{
 "cells": [
  {
   "cell_type": "code",
   "execution_count": 2,
   "metadata": {},
   "outputs": [],
   "source": [
    "import json\n",
    "import requests\n",
    "import pandas as pd\n",
    "import numpy as np\n",
    "import tkinter as tk\n",
    "import matplotlib.pyplot as plt\n",
    "import warnings\n",
    "from matplotlib.patches import Rectangle\n",
    "from IPython.display import display, HTML\n",
    "from scipy.ndimage import gaussian_filter\n",
    "from tabulate import tabulate\n",
    "from mplsoccer import VerticalPitch, FontManager, Pitch\n",
    "from bs4 import BeautifulSoup\n",
    "from datetime import datetime\n",
    "from PIL import Image, ImageDraw, ImageFont\n",
    "from urllib.request import urlopen\n",
    "\n",
    "warnings.filterwarnings(\"ignore\", category=FutureWarning)"
   ]
  },
  {
   "cell_type": "code",
   "execution_count": 3,
   "metadata": {},
   "outputs": [],
   "source": [
    "def opciones(opc):\n",
    "    if opc == '1':\n",
    "        id = 47\n",
    "    elif opc == '2':\n",
    "        id = 42  \n",
    "    elif opc == '3':\n",
    "        id = 131  \n",
    "    elif opc == '4':\n",
    "        id = 87  \n",
    "    elif opc == '5':\n",
    "        id = 54  \n",
    "    elif opc == '6':\n",
    "        id = 55\n",
    "    elif opc == '7':\n",
    "        id = 73\n",
    "    elif opc == '8':\n",
    "        id = 10216\n",
    "    else:\n",
    "        print('Elija otra opción :v')\n",
    "    return id"
   ]
  },
  {
   "cell_type": "code",
   "execution_count": 8,
   "metadata": {},
   "outputs": [
    {
     "name": "stdout",
     "output_type": "stream",
     "text": [
      "---------------------------------------------\n",
      "|            Seleccione una opción          |\n",
      "---------------------------------------------\n",
      "|            1. Premier League              |\n",
      "|            2. Champions League            |\n",
      "|            3. Eredivisie                  |\n",
      "|            4. La Liga                     |\n",
      "|            5. Bundesliga                  |\n",
      "|            6. Serie A                     |\n",
      "|            7. Europa League               |\n",
      "|            8. Europa Conference League    |\n",
      "--------------------------------------------|\n",
      "ID seleccionado: 10216\n"
     ]
    }
   ],
   "source": [
    "print('---------------------------------------------')\n",
    "print('|            Seleccione una opción          |')\n",
    "print('---------------------------------------------')\n",
    "print('|            1. Premier League              |')\n",
    "print('|            2. Champions League            |')\n",
    "print('|            3. Eredivisie                  |')\n",
    "print('|            4. La Liga                     |')\n",
    "print('|            5. Bundesliga                  |')\n",
    "print('|            6. Serie A                     |')\n",
    "print('|            7. Europa League               |')\n",
    "print('|            8. Europa Conference League    |')\n",
    "print('--------------------------------------------|')\n",
    "opc = input('Ingrese una opción: ')\n",
    "\n",
    "opciones_ids = {\n",
    "    '1': 47,\n",
    "    '2': 42,\n",
    "    '3': 57,  \n",
    "    '4': 87,\n",
    "    '5': 54,\n",
    "    '6': 55,\n",
    "    '7': 73,\n",
    "    '8': 10216\n",
    "}\n",
    "\n",
    "if opc in opciones_ids:\n",
    "    id = opciones_ids[opc]\n",
    "    print(\"ID seleccionado:\", id)\n",
    "else:\n",
    "    print(\"Opción no válida\")\n",
    "\n",
    "if id:\n",
    "    # scrapear datos\n",
    "    url = f'https://www.fotmob.com/api/leagues?id={id}'\n",
    "    r = requests.get(url)\n",
    "    json_data = r.json()"
   ]
  },
  {
   "cell_type": "markdown",
   "metadata": {},
   "source": [
    "## Tabla de posiciones"
   ]
  },
  {
   "cell_type": "code",
   "execution_count": 52,
   "metadata": {},
   "outputs": [
    {
     "name": "stdout",
     "output_type": "stream",
     "text": [
      "[{'idx': 1, 'name': 'Inter', 'match': 27, 'wins': 23, 'draws': 3, 'lost': 1, 'goals': '69-13', 'difference': 56, 'pts': 72}, {'idx': 2, 'name': 'Juventus', 'match': 27, 'wins': 17, 'draws': 6, 'lost': 4, 'goals': '42-21', 'difference': 21, 'pts': 57}, {'idx': 3, 'name': 'AC Milan', 'match': 27, 'wins': 17, 'draws': 5, 'lost': 5, 'goals': '51-32', 'difference': 19, 'pts': 56}, {'idx': 4, 'name': 'Bologna', 'match': 27, 'wins': 14, 'draws': 9, 'lost': 4, 'goals': '41-24', 'difference': 17, 'pts': 51}, {'idx': 5, 'name': 'Roma', 'match': 27, 'wins': 14, 'draws': 5, 'lost': 8, 'goals': '52-33', 'difference': 19, 'pts': 47}, {'idx': 6, 'name': 'Atalanta', 'match': 27, 'wins': 14, 'draws': 4, 'lost': 9, 'goals': '49-30', 'difference': 19, 'pts': 46}, {'idx': 7, 'name': 'SSC Napoli', 'match': 27, 'wins': 12, 'draws': 7, 'lost': 8, 'goals': '42-31', 'difference': 11, 'pts': 43}, {'idx': 8, 'name': 'Fiorentina', 'match': 27, 'wins': 12, 'draws': 6, 'lost': 9, 'goals': '39-30', 'difference': 9, 'pts': 42}, {'idx': 9, 'name': 'Lazio', 'match': 27, 'wins': 12, 'draws': 4, 'lost': 11, 'goals': '32-29', 'difference': 3, 'pts': 40}, {'idx': 10, 'name': 'Torino', 'match': 27, 'wins': 9, 'draws': 10, 'lost': 8, 'goals': '25-25', 'difference': 0, 'pts': 37}, {'idx': 11, 'name': 'Monza', 'match': 27, 'wins': 9, 'draws': 9, 'lost': 9, 'goals': '28-34', 'difference': -6, 'pts': 36}, {'idx': 12, 'name': 'Genoa', 'match': 27, 'wins': 8, 'draws': 9, 'lost': 10, 'goals': '29-33', 'difference': -4, 'pts': 33}, {'idx': 13, 'name': 'Lecce', 'match': 27, 'wins': 5, 'draws': 10, 'lost': 12, 'goals': '25-44', 'difference': -19, 'pts': 25}, {'idx': 14, 'name': 'Empoli', 'match': 27, 'wins': 6, 'draws': 7, 'lost': 14, 'goals': '22-41', 'difference': -19, 'pts': 25}, {'idx': 15, 'name': 'Udinese', 'match': 27, 'wins': 3, 'draws': 15, 'lost': 9, 'goals': '26-41', 'difference': -15, 'pts': 24}, {'idx': 16, 'name': 'Frosinone', 'match': 27, 'wins': 6, 'draws': 6, 'lost': 15, 'goals': '35-56', 'difference': -21, 'pts': 24}, {'idx': 17, 'name': 'Hellas Verona', 'match': 27, 'wins': 5, 'draws': 8, 'lost': 14, 'goals': '24-36', 'difference': -12, 'pts': 23}, {'idx': 18, 'name': 'Cagliari', 'match': 27, 'wins': 5, 'draws': 8, 'lost': 14, 'goals': '25-47', 'difference': -22, 'pts': 23}, {'idx': 19, 'name': 'Sassuolo', 'match': 27, 'wins': 5, 'draws': 5, 'lost': 17, 'goals': '32-55', 'difference': -23, 'pts': 20}, {'idx': 20, 'name': 'Salernitana', 'match': 27, 'wins': 2, 'draws': 8, 'lost': 17, 'goals': '21-54', 'difference': -33, 'pts': 14}]\n"
     ]
    }
   ],
   "source": [
    "data = json_data['overview']['table'][0]['data']['table']['all']\n",
    "datos = []\n",
    "for x in data:\n",
    "    datos_equipo = {\n",
    "        'idx': x['idx'],\n",
    "        'name': x['name'],\n",
    "        'match': x['played'], \n",
    "        'wins': x['wins'],\n",
    "        'draws': x['draws'],\n",
    "        'lost': x['losses'],\n",
    "        'goals': x['scoresStr'],\n",
    "        'difference': x['goalConDiff'],\n",
    "        'pts': x['pts']\n",
    "    }\n",
    "\n",
    "    datos.append(datos_equipo)\n",
    "\n",
    "print(datos)"
   ]
  },
  {
   "cell_type": "code",
   "execution_count": 53,
   "metadata": {},
   "outputs": [],
   "source": [
    "datos_filtrados = [[equipo['idx'], equipo['name'], equipo['match'], equipo['wins'], equipo['draws'], equipo['lost'], equipo['goals'], equipo['difference'], equipo['pts']] for equipo in datos]"
   ]
  },
  {
   "cell_type": "code",
   "execution_count": 54,
   "metadata": {},
   "outputs": [],
   "source": [
    "headers = json_data['overview']['table'][0]['tableHeader']['staticTableHeaders']\n",
    "\n",
    "# table = tabulate(datos_filtrados, tablefmt=\"jyml\", headers=headers)\n",
    "table = tabulate(datos_filtrados, tablefmt=\"html\", headers=headers, numalign='center')"
   ]
  },
  {
   "cell_type": "code",
   "execution_count": 55,
   "metadata": {},
   "outputs": [],
   "source": [
    "with open('tablas/seriea.html', 'w') as f:\n",
    "    f.write(HTML(table).data)"
   ]
  },
  {
   "cell_type": "code",
   "execution_count": 56,
   "metadata": {},
   "outputs": [
    {
     "name": "stdout",
     "output_type": "stream",
     "text": [
      "[{'idx': 1, 'name': 'Inter', 'match': 14, 'wins': 12, 'draws': 1, 'lost': 1, 'goals': '36-7', 'difference': 29, 'pts': 37}, {'idx': 2, 'name': 'Bologna', 'match': 14, 'wins': 11, 'draws': 2, 'lost': 1, 'goals': '26-7', 'difference': 19, 'pts': 35}, {'idx': 3, 'name': 'Atalanta', 'match': 14, 'wins': 10, 'draws': 1, 'lost': 3, 'goals': '31-10', 'difference': 21, 'pts': 31}, {'idx': 4, 'name': 'Roma', 'match': 14, 'wins': 9, 'draws': 3, 'lost': 2, 'goals': '33-15', 'difference': 18, 'pts': 30}, {'idx': 5, 'name': 'Juventus', 'match': 13, 'wins': 9, 'draws': 3, 'lost': 1, 'goals': '20-8', 'difference': 12, 'pts': 30}, {'idx': 6, 'name': 'AC Milan', 'match': 13, 'wins': 9, 'draws': 2, 'lost': 2, 'goals': '22-8', 'difference': 14, 'pts': 29}, {'idx': 7, 'name': 'Fiorentina', 'match': 13, 'wins': 8, 'draws': 2, 'lost': 3, 'goals': '24-13', 'difference': 11, 'pts': 26}, {'idx': 8, 'name': 'Torino', 'match': 14, 'wins': 6, 'draws': 6, 'lost': 2, 'goals': '14-8', 'difference': 6, 'pts': 24}, {'idx': 9, 'name': 'Lazio', 'match': 13, 'wins': 6, 'draws': 3, 'lost': 4, 'goals': '13-10', 'difference': 3, 'pts': 21}, {'idx': 10, 'name': 'SSC Napoli', 'match': 13, 'wins': 6, 'draws': 3, 'lost': 4, 'goals': '19-17', 'difference': 2, 'pts': 21}, {'idx': 11, 'name': 'Frosinone', 'match': 14, 'wins': 6, 'draws': 3, 'lost': 5, 'goals': '23-23', 'difference': 0, 'pts': 21}, {'idx': 12, 'name': 'Genoa', 'match': 13, 'wins': 5, 'draws': 5, 'lost': 3, 'goals': '17-16', 'difference': 1, 'pts': 20}, {'idx': 13, 'name': 'Monza', 'match': 14, 'wins': 5, 'draws': 5, 'lost': 4, 'goals': '17-17', 'difference': 0, 'pts': 20}, {'idx': 14, 'name': 'Lecce', 'match': 13, 'wins': 5, 'draws': 4, 'lost': 4, 'goals': '15-21', 'difference': -6, 'pts': 19}, {'idx': 15, 'name': 'Hellas Verona', 'match': 13, 'wins': 4, 'draws': 5, 'lost': 4, 'goals': '15-16', 'difference': -1, 'pts': 17}, {'idx': 16, 'name': 'Cagliari', 'match': 13, 'wins': 4, 'draws': 4, 'lost': 5, 'goals': '16-22', 'difference': -6, 'pts': 16}, {'idx': 17, 'name': 'Udinese', 'match': 14, 'wins': 1, 'draws': 9, 'lost': 4, 'goals': '17-21', 'difference': -4, 'pts': 12}, {'idx': 18, 'name': 'Sassuolo', 'match': 13, 'wins': 3, 'draws': 3, 'lost': 7, 'goals': '17-25', 'difference': -8, 'pts': 12}, {'idx': 19, 'name': 'Empoli', 'match': 14, 'wins': 2, 'draws': 4, 'lost': 8, 'goals': '9-19', 'difference': -10, 'pts': 10}, {'idx': 20, 'name': 'Salernitana', 'match': 14, 'wins': 1, 'draws': 4, 'lost': 9, 'goals': '13-29', 'difference': -16, 'pts': 7}]\n"
     ]
    }
   ],
   "source": [
    "datos_home = []\n",
    "\n",
    "data_home = json_data['overview']['table'][0]['data']['table']['home']\n",
    "for y in data_home:\n",
    "    datos_equipo_home = {\n",
    "        'idx': y['idx'],\n",
    "        'name': y['name'],\n",
    "        'match': y['played'], \n",
    "        'wins': y['wins'],\n",
    "        'draws': y['draws'],\n",
    "        'lost': y['losses'],\n",
    "        'goals': y['scoresStr'],\n",
    "        'difference': y['goalConDiff'],\n",
    "        'pts': y['pts']\n",
    "    }\n",
    "    datos_home.append(datos_equipo_home)\n",
    "print(datos_home)"
   ]
  },
  {
   "cell_type": "code",
   "execution_count": 57,
   "metadata": {},
   "outputs": [
    {
     "name": "stdout",
     "output_type": "stream",
     "text": [
      "[{'idx': 1, 'name': 'Inter', 'match': 13, 'wins': 11, 'draws': 2, 'lost': 0, 'goals': '33-6', 'difference': 27, 'pts': 35}, {'idx': 2, 'name': 'Juventus', 'match': 14, 'wins': 8, 'draws': 3, 'lost': 3, 'goals': '22-13', 'difference': 9, 'pts': 27}, {'idx': 3, 'name': 'AC Milan', 'match': 14, 'wins': 8, 'draws': 3, 'lost': 3, 'goals': '29-24', 'difference': 5, 'pts': 27}, {'idx': 4, 'name': 'SSC Napoli', 'match': 14, 'wins': 6, 'draws': 4, 'lost': 4, 'goals': '23-14', 'difference': 9, 'pts': 22}, {'idx': 5, 'name': 'Lazio', 'match': 14, 'wins': 6, 'draws': 1, 'lost': 7, 'goals': '19-19', 'difference': 0, 'pts': 19}, {'idx': 6, 'name': 'Roma', 'match': 13, 'wins': 5, 'draws': 2, 'lost': 6, 'goals': '19-18', 'difference': 1, 'pts': 17}, {'idx': 7, 'name': 'Bologna', 'match': 13, 'wins': 3, 'draws': 7, 'lost': 3, 'goals': '15-17', 'difference': -2, 'pts': 16}, {'idx': 8, 'name': 'Fiorentina', 'match': 14, 'wins': 4, 'draws': 4, 'lost': 6, 'goals': '15-17', 'difference': -2, 'pts': 16}, {'idx': 9, 'name': 'Monza', 'match': 13, 'wins': 4, 'draws': 4, 'lost': 5, 'goals': '11-17', 'difference': -6, 'pts': 16}, {'idx': 10, 'name': 'Atalanta', 'match': 13, 'wins': 4, 'draws': 3, 'lost': 6, 'goals': '18-20', 'difference': -2, 'pts': 15}, {'idx': 11, 'name': 'Empoli', 'match': 13, 'wins': 4, 'draws': 3, 'lost': 6, 'goals': '13-22', 'difference': -9, 'pts': 15}, {'idx': 12, 'name': 'Genoa', 'match': 14, 'wins': 3, 'draws': 4, 'lost': 7, 'goals': '12-17', 'difference': -5, 'pts': 13}, {'idx': 13, 'name': 'Torino', 'match': 13, 'wins': 3, 'draws': 4, 'lost': 6, 'goals': '11-17', 'difference': -6, 'pts': 13}, {'idx': 14, 'name': 'Udinese', 'match': 13, 'wins': 2, 'draws': 6, 'lost': 5, 'goals': '9-20', 'difference': -11, 'pts': 12}, {'idx': 15, 'name': 'Sassuolo', 'match': 14, 'wins': 2, 'draws': 2, 'lost': 10, 'goals': '15-30', 'difference': -15, 'pts': 8}, {'idx': 16, 'name': 'Cagliari', 'match': 14, 'wins': 1, 'draws': 4, 'lost': 9, 'goals': '9-25', 'difference': -16, 'pts': 7}, {'idx': 17, 'name': 'Salernitana', 'match': 13, 'wins': 1, 'draws': 4, 'lost': 8, 'goals': '8-25', 'difference': -17, 'pts': 7}, {'idx': 18, 'name': 'Hellas Verona', 'match': 14, 'wins': 1, 'draws': 3, 'lost': 10, 'goals': '9-20', 'difference': -11, 'pts': 6}, {'idx': 19, 'name': 'Lecce', 'match': 14, 'wins': 0, 'draws': 6, 'lost': 8, 'goals': '10-23', 'difference': -13, 'pts': 6}, {'idx': 20, 'name': 'Frosinone', 'match': 13, 'wins': 0, 'draws': 3, 'lost': 10, 'goals': '12-33', 'difference': -21, 'pts': 3}]\n"
     ]
    }
   ],
   "source": [
    "datos_away = []\n",
    "\n",
    "data_away = json_data['overview']['table'][0]['data']['table']['away']\n",
    "for y in data_away:\n",
    "    datos_equipo_away = {\n",
    "        'idx': y['idx'],\n",
    "        'name': y['name'],\n",
    "        'match': y['played'], \n",
    "        'wins': y['wins'],\n",
    "        'draws': y['draws'],\n",
    "        'lost': y['losses'],\n",
    "        'goals': y['scoresStr'],\n",
    "        'difference': y['goalConDiff'],\n",
    "        'pts': y['pts']\n",
    "    }\n",
    "    datos_away.append(datos_equipo_away)\n",
    "print(datos_away)"
   ]
  },
  {
   "cell_type": "markdown",
   "metadata": {},
   "source": [
    "tablas de posicion de la premier league"
   ]
  },
  {
   "cell_type": "code",
   "execution_count": 58,
   "metadata": {},
   "outputs": [],
   "source": [
    "df_home = pd.DataFrame(datos_home)\n",
    "df_away = pd.DataFrame(datos_away)\n",
    "df_home.to_csv('../csv/partidos/seriea/df_home.csv')\n",
    "df_away.to_csv('../csv/partidos/seriea/df_away.csv')"
   ]
  },
  {
   "cell_type": "markdown",
   "metadata": {},
   "source": [
    "## Buscar temporadas"
   ]
  },
  {
   "cell_type": "code",
   "execution_count": null,
   "metadata": {},
   "outputs": [],
   "source": [
    "seasons = json_data['stats']['seasonsWithLinks']\n",
    "data = json_data['stats']['seasonStatLinks']\n",
    "\n",
    "df = pd.DataFrame(data)\n",
    "df = df[['Name', 'RelativePath', 'League', 'TournamentId', 'TotwRoundsLink']]\n",
    "df.reset_index(inplace=True, drop=True)\n",
    "df.to_csv(f'csv/partidos/premier/seasons_premier.csv')"
   ]
  },
  {
   "cell_type": "code",
   "execution_count": 67,
   "metadata": {},
   "outputs": [
    {
     "data": {
      "text/html": [
       "<div>\n",
       "<style scoped>\n",
       "    .dataframe tbody tr th:only-of-type {\n",
       "        vertical-align: middle;\n",
       "    }\n",
       "\n",
       "    .dataframe tbody tr th {\n",
       "        vertical-align: top;\n",
       "    }\n",
       "\n",
       "    .dataframe thead th {\n",
       "        text-align: right;\n",
       "    }\n",
       "</style>\n",
       "<table border=\"1\" class=\"dataframe\">\n",
       "  <thead>\n",
       "    <tr style=\"text-align: right;\">\n",
       "      <th></th>\n",
       "      <th>Name</th>\n",
       "      <th>RelativePath</th>\n",
       "      <th>League</th>\n",
       "      <th>TournamentId</th>\n",
       "      <th>TotwRoundsLink</th>\n",
       "    </tr>\n",
       "  </thead>\n",
       "  <tbody>\n",
       "    <tr>\n",
       "      <th>1</th>\n",
       "      <td>2022/2023</td>\n",
       "      <td>stats/47/season/17664/topstats.json</td>\n",
       "      <td>Premier League</td>\n",
       "      <td>17664</td>\n",
       "      <td>https://pub.fotmob.com/prod/db/api/v2/team-of-...</td>\n",
       "    </tr>\n",
       "    <tr>\n",
       "      <th>2</th>\n",
       "      <td>2021/2022</td>\n",
       "      <td>stats/47/season/16390/topstats.json</td>\n",
       "      <td>Premier League</td>\n",
       "      <td>16390</td>\n",
       "      <td>https://pub.fotmob.com/prod/db/api/v2/team-of-...</td>\n",
       "    </tr>\n",
       "  </tbody>\n",
       "</table>\n",
       "</div>"
      ],
      "text/plain": [
       "        Name                         RelativePath          League  \\\n",
       "1  2022/2023  stats/47/season/17664/topstats.json  Premier League   \n",
       "2  2021/2022  stats/47/season/16390/topstats.json  Premier League   \n",
       "\n",
       "   TournamentId                                     TotwRoundsLink  \n",
       "1         17664  https://pub.fotmob.com/prod/db/api/v2/team-of-...  \n",
       "2         16390  https://pub.fotmob.com/prod/db/api/v2/team-of-...  "
      ]
     },
     "execution_count": 67,
     "metadata": {},
     "output_type": "execute_result"
    }
   ],
   "source": [
    "df = df[df['Name'].str.contains('2022')]\n",
    "df"
   ]
  },
  {
   "cell_type": "code",
   "execution_count": 13,
   "metadata": {},
   "outputs": [],
   "source": [
    "headers = {\n",
    "    'authority': 'api.sofascore.com',\n",
    "    'accept': '*/*',\n",
    "    'accept-language': 'en-US,en;q=0.9',\n",
    "    'cache-control': 'max-age=0',\n",
    "    'dnt': '1',\n",
    "    'if-none-match': 'W/\"4bebed6144\"',\n",
    "    'origin': 'https://www.sofascore.com',\n",
    "    'referer': 'https://www.sofascore.com/',\n",
    "    'sec-ch-ua': '\"Not.A/Brand\";v=\"8\", \"Chromium\";v=\"114\"',\n",
    "    'sec-ch-ua-mobile': '?0',\n",
    "    'sec-ch-ua-platform': '\"macOS\"',\n",
    "    'sec-fetch-dest': 'empty',\n",
    "    'sec-fetch-mode': 'cors',\n",
    "    'sec-fetch-site': 'same-site',\n",
    "    'user-agent': 'Mozilla/5.0 (Windows NT 10.0; Win64; x64) AppleWebKit/537.36 (KHTML, like Gecko) Chrome/116.0.0.0 Safari/537.36',\n",
    "}"
   ]
  },
  {
   "cell_type": "markdown",
   "metadata": {},
   "source": [
    "## Buscar partidos"
   ]
  },
  {
   "cell_type": "code",
   "execution_count": 9,
   "metadata": {},
   "outputs": [],
   "source": [
    "data = json_data['matches']['allMatches']"
   ]
  },
  {
   "cell_type": "code",
   "execution_count": 12,
   "metadata": {},
   "outputs": [],
   "source": [
    "df = pd.DataFrame(data)\n",
    "df = df[['round', 'pageUrl', 'id']]\n",
    "df.reset_index(inplace=True, drop=True)\n",
    "df.to_csv(f'../csv/partidos/conference/match_conference.csv')"
   ]
  },
  {
   "cell_type": "code",
   "execution_count": 13,
   "metadata": {},
   "outputs": [
    {
     "data": {
      "text/html": [
       "<div>\n",
       "<style scoped>\n",
       "    .dataframe tbody tr th:only-of-type {\n",
       "        vertical-align: middle;\n",
       "    }\n",
       "\n",
       "    .dataframe tbody tr th {\n",
       "        vertical-align: top;\n",
       "    }\n",
       "\n",
       "    .dataframe thead th {\n",
       "        text-align: right;\n",
       "    }\n",
       "</style>\n",
       "<table border=\"1\" class=\"dataframe\">\n",
       "  <thead>\n",
       "    <tr style=\"text-align: right;\">\n",
       "      <th></th>\n",
       "      <th>round</th>\n",
       "      <th>pageUrl</th>\n",
       "      <th>id</th>\n",
       "    </tr>\n",
       "  </thead>\n",
       "  <tbody>\n",
       "    <tr>\n",
       "      <th>244</th>\n",
       "      <td>7</td>\n",
       "      <td>/matches/fiorentina-vs-rapid-wien/2ug1c4#4287937</td>\n",
       "      <td>4287937</td>\n",
       "    </tr>\n",
       "    <tr>\n",
       "      <th>266</th>\n",
       "      <td>7</td>\n",
       "      <td>/matches/fiorentina-vs-rapid-wien/2ug1c4#4287959</td>\n",
       "      <td>4287959</td>\n",
       "    </tr>\n",
       "    <tr>\n",
       "      <th>280</th>\n",
       "      <td>1</td>\n",
       "      <td>/matches/fiorentina-vs-genk/2u4xz6#4315320</td>\n",
       "      <td>4315320</td>\n",
       "    </tr>\n",
       "    <tr>\n",
       "      <th>304</th>\n",
       "      <td>2</td>\n",
       "      <td>/matches/ferencvaros-vs-fiorentina/2bll8u#4315339</td>\n",
       "      <td>4315339</td>\n",
       "    </tr>\n",
       "    <tr>\n",
       "      <th>319</th>\n",
       "      <td>3</td>\n",
       "      <td>/matches/cukaricki-vs-fiorentina/1u6fui#4315336</td>\n",
       "      <td>4315336</td>\n",
       "    </tr>\n",
       "    <tr>\n",
       "      <th>325</th>\n",
       "      <td>4</td>\n",
       "      <td>/matches/cukaricki-vs-fiorentina/1u6fui#4315331</td>\n",
       "      <td>4315331</td>\n",
       "    </tr>\n",
       "    <tr>\n",
       "      <th>353</th>\n",
       "      <td>5</td>\n",
       "      <td>/matches/fiorentina-vs-genk/2u4xz6#4315338</td>\n",
       "      <td>4315338</td>\n",
       "    </tr>\n",
       "    <tr>\n",
       "      <th>358</th>\n",
       "      <td>6</td>\n",
       "      <td>/matches/ferencvaros-vs-fiorentina/2bll8u#4315333</td>\n",
       "      <td>4315333</td>\n",
       "    </tr>\n",
       "    <tr>\n",
       "      <th>393</th>\n",
       "      <td>9</td>\n",
       "      <td>/matches/fiorentina-vs-maccabi-haifa/2wbxt3#44...</td>\n",
       "      <td>4430925</td>\n",
       "    </tr>\n",
       "    <tr>\n",
       "      <th>397</th>\n",
       "      <td>9</td>\n",
       "      <td>/matches/fiorentina-vs-maccabi-haifa/2wbxt3#44...</td>\n",
       "      <td>4430933</td>\n",
       "    </tr>\n",
       "  </tbody>\n",
       "</table>\n",
       "</div>"
      ],
      "text/plain": [
       "     round                                            pageUrl       id\n",
       "244      7   /matches/fiorentina-vs-rapid-wien/2ug1c4#4287937  4287937\n",
       "266      7   /matches/fiorentina-vs-rapid-wien/2ug1c4#4287959  4287959\n",
       "280      1         /matches/fiorentina-vs-genk/2u4xz6#4315320  4315320\n",
       "304      2  /matches/ferencvaros-vs-fiorentina/2bll8u#4315339  4315339\n",
       "319      3    /matches/cukaricki-vs-fiorentina/1u6fui#4315336  4315336\n",
       "325      4    /matches/cukaricki-vs-fiorentina/1u6fui#4315331  4315331\n",
       "353      5         /matches/fiorentina-vs-genk/2u4xz6#4315338  4315338\n",
       "358      6  /matches/ferencvaros-vs-fiorentina/2bll8u#4315333  4315333\n",
       "393      9  /matches/fiorentina-vs-maccabi-haifa/2wbxt3#44...  4430925\n",
       "397      9  /matches/fiorentina-vs-maccabi-haifa/2wbxt3#44...  4430933"
      ]
     },
     "execution_count": 13,
     "metadata": {},
     "output_type": "execute_result"
    }
   ],
   "source": [
    "df = df[df['pageUrl'].str.contains('fiorentina')]\n",
    "df"
   ]
  },
  {
   "cell_type": "code",
   "execution_count": 24,
   "metadata": {},
   "outputs": [],
   "source": [
    "home_colors = ['royalblue', 'gold']\n",
    "away_colors = ['skyblue', 'lightyellow']\n",
    "win_color = 'green'\n",
    "loss_color = 'red'"
   ]
  }
 ],
 "metadata": {
  "kernelspec": {
   "display_name": "Python 3",
   "language": "python",
   "name": "python3"
  },
  "language_info": {
   "codemirror_mode": {
    "name": "ipython",
    "version": 3
   },
   "file_extension": ".py",
   "mimetype": "text/x-python",
   "name": "python",
   "nbconvert_exporter": "python",
   "pygments_lexer": "ipython3",
   "version": "3.11.2"
  }
 },
 "nbformat": 4,
 "nbformat_minor": 2
}
